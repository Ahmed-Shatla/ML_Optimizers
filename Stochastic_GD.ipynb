{
  "nbformat": 4,
  "nbformat_minor": 0,
  "metadata": {
    "colab": {
      "provenance": [],
      "authorship_tag": "ABX9TyNvq+mMlxwliYqZ0MvdjOq9",
      "include_colab_link": true
    },
    "kernelspec": {
      "name": "python3",
      "display_name": "Python 3"
    },
    "language_info": {
      "name": "python"
    }
  },
  "cells": [
    {
      "cell_type": "markdown",
      "metadata": {
        "id": "view-in-github",
        "colab_type": "text"
      },
      "source": [
        "<a href=\"https://colab.research.google.com/github/Ahmed-Shatla/ML_Optimizers/blob/main/Stochasric_GD.ipynb\" target=\"_parent\"><img src=\"https://colab.research.google.com/assets/colab-badge.svg\" alt=\"Open In Colab\"/></a>"
      ]
    },
    {
      "cell_type": "code",
      "source": [
        "import numpy as np\n",
        "import matplotlib.pyplot as plt"
      ],
      "metadata": {
        "id": "PuhOa83EWGlK"
      },
      "execution_count": 1,
      "outputs": []
    },
    {
      "cell_type": "code",
      "source": [
        "def func(x):\n",
        "   return x**2 - 4*x + 6\n",
        "\n",
        "def df(x):\n",
        "   return 2*x - 4"
      ],
      "metadata": {
        "id": "WVRK5UWvWGik"
      },
      "execution_count": 2,
      "outputs": []
    },
    {
      "cell_type": "code",
      "execution_count": 3,
      "metadata": {
        "id": "mszroQwrU7gv"
      },
      "outputs": [],
      "source": [
        "def SGD(init_x, lr, itr,data):\n",
        "  '''\n",
        "  this is a stochastic gradient descent function\n",
        "  Args:\n",
        "      init_x (int): initial X\n",
        "      lr (float): learning rate\n",
        "      itr (int): number of iterations\n",
        "\n",
        "  Returns:\n",
        "      local minimum, updating history\n",
        "  '''\n",
        "  x = init_x\n",
        "  x_history=[x]\n",
        "\n",
        "  for i in range(itr):\n",
        "    for data_point in data:\n",
        "      gradient = df(x)\n",
        "      x = x - lr*gradient\n",
        "      x_history.append(x)\n",
        "\n",
        "  return x,x_history\n"
      ]
    },
    {
      "cell_type": "code",
      "source": [
        "x_vals = np.linspace(-1, 4, 100)\n",
        "initial_x = 0\n",
        "learning_rate = 0.1\n",
        "num_iterations = 30\n",
        "\n",
        "x, x_history = SGD(initial_x, learning_rate, num_iterations,x_vals)\n",
        "\n",
        "print(\"Local minimum: {:.2f}\".format(x))"
      ],
      "metadata": {
        "colab": {
          "base_uri": "https://localhost:8080/"
        },
        "id": "5BaO9pqCWgma",
        "outputId": "cb6f6550-49d1-4dbf-fd44-a33ba4bee129"
      },
      "execution_count": 6,
      "outputs": [
        {
          "output_type": "stream",
          "name": "stdout",
          "text": [
            "Local minimum: 2.00\n"
          ]
        }
      ]
    },
    {
      "cell_type": "code",
      "source": [
        "plt.plot(x_vals, func(x_vals))\n",
        "plt.plot(x_history, func(np.array(x_history)), 'rx')\n",
        "plt.xlabel('x')\n",
        "plt.ylabel('f(x)')\n",
        "plt.title('Gradient Descent')"
      ],
      "metadata": {
        "colab": {
          "base_uri": "https://localhost:8080/",
          "height": 489
        },
        "id": "fj5CDWXDX4ML",
        "outputId": "996f58ed-ff68-4452-c408-b1839b250821"
      },
      "execution_count": 7,
      "outputs": [
        {
          "output_type": "execute_result",
          "data": {
            "text/plain": [
              "Text(0.5, 1.0, 'Gradient Descent')"
            ]
          },
          "metadata": {},
          "execution_count": 7
        },
        {
          "output_type": "display_data",
          "data": {
            "text/plain": [
              "<Figure size 640x480 with 1 Axes>"
            ],
            "image/png": "[encoded data removed]"
          },
          "metadata": {}
        }
      ]
    },
    {
      "cell_type": "code",
      "source": [],
      "metadata": {
        "id": "VVW-2sw1Yj-Q"
      },
      "execution_count": 5,
      "outputs": []
    }
  ]
}
